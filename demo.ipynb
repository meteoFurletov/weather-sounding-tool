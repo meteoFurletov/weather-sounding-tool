{
 "cells": [
  {
   "cell_type": "markdown",
   "metadata": {},
   "source": [
    "# Weather Sounding Tool - Online Demo\n",
    "\n",
    "This notebook demonstrates how to use the Weather Sounding Tool online without installing anything on your computer.\n",
    "\n",
    "[![Open In Colab](https://colab.research.google.com/assets/colab-badge.svg)](https://colab.research.google.com/github/yourusername/weather-sounding-tool/blob/main/demo.ipynb)"
   ]
  },
  {
   "cell_type": "markdown",
   "metadata": {},
   "source": [
    "## 1. Setup\n",
    "\n",
    "First, let's install the required libraries and clone the repository:"
   ]
  },
  {
   "cell_type": "code",
   "execution_count": null,
   "metadata": {},
   "outputs": [],
   "source": [
    "# Install required libraries\n",
    "!pip install pandas numpy requests beautifulsoup4 xlsxwriter\n",
    "\n",
    "# Clone the repository\n",
    "!git clone https://github.com/yourusername/weather-sounding-tool.git\n",
    "# Change to the repository directory\n",
    "%cd weather-sounding-tool"
   ]
  },
  {
   "cell_type": "markdown",
   "metadata": {},
   "source": [
    "## 2. Fetch weather data\n",
    "\n",
    "Now, let's fetch some weather sounding data:"
   ]
  },
  {
   "cell_type": "code",
   "execution_count": null,
   "metadata": {},
   "outputs": [],
   "source": [
    "# Import the necessary functions from weather_tool.py\n",
    "from weather_tool import fetch_data\n",
    "\n",
    "# Parameters\n",
    "year = 2021\n",
    "month = 1\n",
    "station = 26075  # St. Petersburg\n",
    "\n",
    "# Fetch the data\n",
    "file_path = fetch_data(year, month, station)"
   ]
  },
  {
   "cell_type": "markdown",
   "metadata": {},
   "source": [
    "## 3. Process the data\n",
    "\n",
    "Now, let's process the data to extract temperature inversions:"
   ]
  },
  {
   "cell_type": "code",
   "execution_count": null,
   "metadata": {},
   "outputs": [],
   "source": [
    "from weather_tool import process_data\n",
    "\n",
    "# Process the data\n",
    "result = process_data(year, [month], station, use_local_files=True)\n",
    "\n",
    "print(f\"Processed {result['processed']} soundings\")\n",
    "print(f\"Failed to process {result['failed']} soundings\")"
   ]
  },
  {
   "cell_type": "markdown",
   "metadata": {},
   "source": [
    "## 4. View the results\n",
    "\n",
    "Let's look at the combined analysis file:"
   ]
  },
  {
   "cell_type": "code",
   "execution_count": null,
   "metadata": {},
   "outputs": [],
   "source": [
    "import pandas as pd\n",
    "\n",
    "# Load the combined data\n",
    "df = pd.read_excel('DATA.xlsx', sheet_name=\"df_full\")\n",
    "\n",
    "# Show the first few rows\n",
    "df.head()"
   ]
  },
  {
   "cell_type": "markdown",
   "metadata": {},
   "source": [
    "## 5. Download the results\n",
    "\n",
    "You can download the individual Excel files and the combined analysis:"
   ]
  },
  {
   "cell_type": "code",
   "execution_count": null,
   "metadata": {},
   "outputs": [],
   "source": [
    "from google.colab import files\n",
    "\n",
    "# Download the combined analysis file\n",
    "files.download('DATA.xlsx')"
   ]
  }
 ],
 "metadata": {
  "language_info": {
   "name": "python"
  }
 },
 "nbformat": 4,
 "nbformat_minor": 2
}
