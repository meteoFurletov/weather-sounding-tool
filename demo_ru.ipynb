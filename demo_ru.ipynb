{
 "cells": [
  {
   "cell_type": "markdown",
   "metadata": {},
   "source": [
    "# Обработчик Метеорологических Зондирований - Онлайн Демонстрация\n",
    "\n",
    "Этот ноутбук демонстрирует использование инструмента для обработки метеорологических зондирований без необходимости устанавливать что-либо на ваш компьютер.\n",
    "\n",
    "[![Открыть в Colab](https://colab.research.google.com/assets/colab-badge.svg)](https://colab.research.google.com/github/meteoFurletov/weather-sounding-tool/blob/main/demo_ru.ipynb)"
   ]
  },
  {
   "cell_type": "markdown",
   "metadata": {},
   "source": [
    "## 1. Настройка\n",
    "\n",
    "Сначала установим необходимые библиотеки и клонируем репозиторий:"
   ]
  },
  {
   "cell_type": "code",
   "execution_count": 1,
   "metadata": {},
   "outputs": [
    {
     "name": "stdout",
     "output_type": "stream",
     "text": [
      "Requirement already satisfied: pandas in ./venv/lib/python3.12/site-packages (2.2.3)\n",
      "Requirement already satisfied: numpy in ./venv/lib/python3.12/site-packages (2.2.4)\n",
      "Requirement already satisfied: requests in ./venv/lib/python3.12/site-packages (2.32.3)\n",
      "Requirement already satisfied: beautifulsoup4 in ./venv/lib/python3.12/site-packages (4.13.3)\n",
      "Requirement already satisfied: xlsxwriter in ./venv/lib/python3.12/site-packages (3.2.2)\n",
      "Requirement already satisfied: matplotlib in ./venv/lib/python3.12/site-packages (3.10.1)\n",
      "Requirement already satisfied: python-dateutil>=2.8.2 in ./venv/lib/python3.12/site-packages (from pandas) (2.9.0.post0)\n",
      "Requirement already satisfied: pytz>=2020.1 in ./venv/lib/python3.12/site-packages (from pandas) (2025.1)\n",
      "Requirement already satisfied: tzdata>=2022.7 in ./venv/lib/python3.12/site-packages (from pandas) (2025.1)\n",
      "Requirement already satisfied: charset-normalizer<4,>=2 in ./venv/lib/python3.12/site-packages (from requests) (3.4.1)\n",
      "Requirement already satisfied: idna<4,>=2.5 in ./venv/lib/python3.12/site-packages (from requests) (3.10)\n",
      "Requirement already satisfied: urllib3<3,>=1.21.1 in ./venv/lib/python3.12/site-packages (from requests) (2.3.0)\n",
      "Requirement already satisfied: certifi>=2017.4.17 in ./venv/lib/python3.12/site-packages (from requests) (2025.1.31)\n",
      "Requirement already satisfied: soupsieve>1.2 in ./venv/lib/python3.12/site-packages (from beautifulsoup4) (2.6)\n",
      "Requirement already satisfied: typing-extensions>=4.0.0 in ./venv/lib/python3.12/site-packages (from beautifulsoup4) (4.12.2)\n",
      "Requirement already satisfied: contourpy>=1.0.1 in ./venv/lib/python3.12/site-packages (from matplotlib) (1.3.1)\n",
      "Requirement already satisfied: cycler>=0.10 in ./venv/lib/python3.12/site-packages (from matplotlib) (0.12.1)\n",
      "Requirement already satisfied: fonttools>=4.22.0 in ./venv/lib/python3.12/site-packages (from matplotlib) (4.56.0)\n",
      "Requirement already satisfied: kiwisolver>=1.3.1 in ./venv/lib/python3.12/site-packages (from matplotlib) (1.4.8)\n",
      "Requirement already satisfied: packaging>=20.0 in ./venv/lib/python3.12/site-packages (from matplotlib) (24.2)\n",
      "Requirement already satisfied: pillow>=8 in ./venv/lib/python3.12/site-packages (from matplotlib) (11.1.0)\n",
      "Requirement already satisfied: pyparsing>=2.3.1 in ./venv/lib/python3.12/site-packages (from matplotlib) (3.2.1)\n",
      "Requirement already satisfied: six>=1.5 in ./venv/lib/python3.12/site-packages (from python-dateutil>=2.8.2->pandas) (1.17.0)\n",
      "Cloning into 'weather-sounding-tool'...\n",
      "remote: Enumerating objects: 25, done.\u001b[K\n",
      "remote: Counting objects: 100% (25/25), done.\u001b[K\n",
      "remote: Compressing objects: 100% (18/18), done.\u001b[K\n",
      "remote: Total 25 (delta 10), reused 22 (delta 7), pack-reused 0 (from 0)\u001b[K\n",
      "Receiving objects: 100% (25/25), 20.92 KiB | 10.46 MiB/s, done.\n",
      "Resolving deltas: 100% (10/10), done.\n",
      "/home/meteof/PARA/1_Projects/masters_backlog/subjects/inverse/weather-sounding-tool\n"
     ]
    }
   ],
   "source": [
    "# Установка необходимых библиотек\n",
    "!pip install pandas numpy requests beautifulsoup4 xlsxwriter matplotlib\n",
    "\n",
    "# Клонирование репозитория\n",
    "!git clone https://github.com/meteoFurletov/weather-sounding-tool.git\n",
    "# Переход в директорию репозитория\n",
    "%cd weather-sounding-tool"
   ]
  },
  {
   "cell_type": "markdown",
   "metadata": {},
   "source": [
    "## 2. Выбор параметров\n",
    "\n",
    "Настроим основные параметры для загрузки и обработки данных:"
   ]
  },
  {
   "cell_type": "code",
   "execution_count": 1,
   "metadata": {},
   "outputs": [
    {
     "name": "stdout",
     "output_type": "stream",
     "text": [
      "Выбраны параметры: 2021 год, 1 месяц, станция: Санкт-Петербург (Воейково) (ID: 26075)\n"
     ]
    }
   ],
   "source": [
    "# Параметры для загрузки данных\n",
    "year = 2021  # Год\n",
    "month = 1    # Месяц (1-12)\n",
    "\n",
    "# Выберите станцию из списка\n",
    "stations = {\n",
    "    26075: \"Санкт-Петербург (Воейково)\",\n",
    "    26702: \"Москва\",\n",
    "    26850: \"Казань\",\n",
    "    27612: \"Екатеринбург\",\n",
    "    31977: \"Салехард\",\n",
    "    32540: \"Новосибирск\",\n",
    "    35121: \"Владивосток\"\n",
    "}\n",
    "\n",
    "# Выбираем станцию (можно изменить на любую из списка)\n",
    "station_id = 26075\n",
    "station_name = stations[station_id]\n",
    "\n",
    "print(f\"Выбраны параметры: {year} год, {month} месяц, станция: {station_name} (ID: {station_id})\")"
   ]
  },
  {
   "cell_type": "markdown",
   "metadata": {},
   "source": [
    "## 3. Загрузка данных метеорологического зондирования\n",
    "\n",
    "Теперь загрузим данные зондирования с сайта Университета Вайоминга:"
   ]
  },
  {
   "cell_type": "code",
   "execution_count": 2,
   "metadata": {},
   "outputs": [
    {
     "name": "stderr",
     "output_type": "stream",
     "text": [
      "2025-03-18 16:22:08,196 - INFO - Fetching data from: http://weather.uwyo.edu/cgi-bin/sounding?region=europe&TYPE=TEXT%3ALIST&YEAR=2021&MONTH=01&FROM=0100&TO=3112&STNM=26075\n"
     ]
    },
    {
     "name": "stdout",
     "output_type": "stream",
     "text": [
      "Загрузка данных для станции Санкт-Петербург (Воейково) за 1.2021...\n"
     ]
    },
    {
     "name": "stderr",
     "output_type": "stream",
     "text": [
      "2025-03-18 16:22:12,870 - INFO - Saved raw HTML to data/response_2021_01_26075.html (62 soundings)\n"
     ]
    },
    {
     "name": "stdout",
     "output_type": "stream",
     "text": [
      "Данные успешно загружены и сохранены в data/response_2021_01_26075.html\n"
     ]
    }
   ],
   "source": [
    "# Импортируем необходимые функции\n",
    "from weather_tool import fetch_data\n",
    "\n",
    "# Загрузка данных\n",
    "print(f\"Загрузка данных для станции {station_name} за {month}.{year}...\")\n",
    "file_path = fetch_data(year, month, station_id)\n",
    "\n",
    "if file_path:\n",
    "    print(f\"Данные успешно загружены и сохранены в {file_path}\")\n",
    "else:\n",
    "    print(\"Ошибка при загрузке данных. Проверьте соединение или параметры.\")"
   ]
  },
  {
   "cell_type": "markdown",
   "metadata": {},
   "source": [
    "## 4. Обработка данных\n",
    "\n",
    "Теперь обработаем загруженные данные, чтобы извлечь температурные инверсии:"
   ]
  },
  {
   "cell_type": "code",
   "execution_count": 2,
   "metadata": {},
   "outputs": [
    {
     "name": "stderr",
     "output_type": "stream",
     "text": [
      "2025-03-18 17:12:31,922 - INFO - Loaded data from data/response_2021_01_26075.html\n",
      "2025-03-18 17:12:31,931 - INFO - Found twice as many pre tags as h2 tags. Using every other pre tag.\n",
      "2025-03-18 17:12:31,939 - INFO - Extracted 62 soundings\n",
      "2025-03-18 17:12:31,995 - INFO - Saved: soundings_2021_26075/DATA_20210105_0000.xlsx\n",
      "2025-03-18 17:12:32,008 - INFO - Saved: soundings_2021_26075/DATA_20210105_1200.xlsx\n",
      "2025-03-18 17:12:32,026 - INFO - Saved: soundings_2021_26075/DATA_20210106_1200.xlsx\n",
      "2025-03-18 17:12:32,042 - INFO - Saved: soundings_2021_26075/DATA_20210107_0000.xlsx\n",
      "2025-03-18 17:12:32,060 - INFO - Saved: soundings_2021_26075/DATA_20210107_1200.xlsx\n",
      "2025-03-18 17:12:32,087 - INFO - Saved: soundings_2021_26075/DATA_20210109_0000.xlsx\n",
      "2025-03-18 17:12:32,100 - INFO - Saved: soundings_2021_26075/DATA_20210109_1200.xlsx\n",
      "2025-03-18 17:12:32,116 - INFO - Saved: soundings_2021_26075/DATA_20210110_0000.xlsx\n"
     ]
    },
    {
     "name": "stdout",
     "output_type": "stream",
     "text": [
      "Обработка данных для станции Санкт-Петербург (Воейково)...\n"
     ]
    },
    {
     "name": "stderr",
     "output_type": "stream",
     "text": [
      "2025-03-18 17:12:32,132 - INFO - Saved: soundings_2021_26075/DATA_20210110_1200.xlsx\n",
      "2025-03-18 17:12:32,152 - INFO - Saved: soundings_2021_26075/DATA_20210111_0000.xlsx\n",
      "2025-03-18 17:12:32,170 - INFO - Saved: soundings_2021_26075/DATA_20210111_1200.xlsx\n",
      "2025-03-18 17:12:32,188 - INFO - Saved: soundings_2021_26075/DATA_20210112_0000.xlsx\n",
      "2025-03-18 17:12:32,203 - INFO - Saved: soundings_2021_26075/DATA_20210112_1200.xlsx\n",
      "2025-03-18 17:12:32,219 - INFO - Saved: soundings_2021_26075/DATA_20210113_0000.xlsx\n",
      "2025-03-18 17:12:32,233 - INFO - Saved: soundings_2021_26075/DATA_20210113_1200.xlsx\n",
      "2025-03-18 17:12:32,246 - INFO - Saved: soundings_2021_26075/DATA_20210114_0000.xlsx\n",
      "2025-03-18 17:12:32,260 - INFO - Saved: soundings_2021_26075/DATA_20210114_1200.xlsx\n",
      "2025-03-18 17:12:32,272 - INFO - Saved: soundings_2021_26075/DATA_20210115_0000.xlsx\n",
      "2025-03-18 17:12:32,291 - INFO - Saved: soundings_2021_26075/DATA_20210116_0000.xlsx\n",
      "2025-03-18 17:12:32,304 - INFO - Saved: soundings_2021_26075/DATA_20210116_1200.xlsx\n",
      "2025-03-18 17:12:32,319 - INFO - Saved: soundings_2021_26075/DATA_20210117_0000.xlsx\n",
      "2025-03-18 17:12:32,332 - INFO - Saved: soundings_2021_26075/DATA_20210117_1200.xlsx\n",
      "2025-03-18 17:12:32,345 - INFO - Saved: soundings_2021_26075/DATA_20210118_0000.xlsx\n",
      "2025-03-18 17:12:32,360 - INFO - Saved: soundings_2021_26075/DATA_20210118_1200.xlsx\n",
      "2025-03-18 17:12:32,373 - INFO - Saved: soundings_2021_26075/DATA_20210119_0000.xlsx\n",
      "2025-03-18 17:12:32,386 - INFO - Saved: soundings_2021_26075/DATA_20210119_1200.xlsx\n",
      "2025-03-18 17:12:32,401 - INFO - Saved: soundings_2021_26075/DATA_20210120_0000.xlsx\n",
      "2025-03-18 17:12:32,420 - INFO - Saved: soundings_2021_26075/DATA_20210121_0000.xlsx\n",
      "2025-03-18 17:12:32,435 - INFO - Saved: soundings_2021_26075/DATA_20210121_1200.xlsx\n",
      "2025-03-18 17:12:32,451 - INFO - Saved: soundings_2021_26075/DATA_20210122_0000.xlsx\n",
      "2025-03-18 17:12:32,468 - INFO - Saved: soundings_2021_26075/DATA_20210122_1200.xlsx\n",
      "2025-03-18 17:12:32,482 - INFO - Saved: soundings_2021_26075/DATA_20210123_0000.xlsx\n",
      "2025-03-18 17:12:32,503 - INFO - Saved: soundings_2021_26075/DATA_20210124_0000.xlsx\n",
      "2025-03-18 17:12:32,520 - INFO - Saved: soundings_2021_26075/DATA_20210124_1200.xlsx\n",
      "2025-03-18 17:12:32,535 - INFO - Saved: soundings_2021_26075/DATA_20210125_0000.xlsx\n",
      "2025-03-18 17:12:32,561 - INFO - Saved: soundings_2021_26075/DATA_20210126_1200.xlsx\n",
      "2025-03-18 17:12:32,636 - INFO - Created combined file DATA.xlsx with 9 analysis sheets\n"
     ]
    },
    {
     "name": "stdout",
     "output_type": "stream",
     "text": [
      "Обработано 36 зондирований\n",
      "Найдено инверсий: 36\n",
      "Не найдено инверсий в 26 зондированиях\n"
     ]
    }
   ],
   "source": [
    "from weather_tool import process_data\n",
    "\n",
    "# Обработка данных\n",
    "print(f\"Обработка данных для станции {station_name}...\")\n",
    "result = process_data(year, [month], station_id, use_local_files=True)\n",
    "\n",
    "if result['processed'] > 0:\n",
    "    print(f\"Обработано {result['processed']} зондирований\")\n",
    "    print(f\"Найдено инверсий: {len(result['files'])}\")\n",
    "    print(f\"Не найдено инверсий в {result['failed']} зондированиях\")\n",
    "else:\n",
    "    print(\"Не удалось найти инверсии. Проверьте данные или параметры.\")"
   ]
  },
  {
   "cell_type": "markdown",
   "metadata": {},
   "source": [
    "## 5. Просмотр результатов\n",
    "\n",
    "Рассмотрим результаты анализа:"
   ]
  },
  {
   "cell_type": "code",
   "execution_count": 3,
   "metadata": {},
   "outputs": [
    {
     "name": "stdout",
     "output_type": "stream",
     "text": [
      "Первые строки данных:\n"
     ]
    },
    {
     "data": {
      "text/html": [
       "<div>\n",
       "<style scoped>\n",
       "    .dataframe tbody tr th:only-of-type {\n",
       "        vertical-align: middle;\n",
       "    }\n",
       "\n",
       "    .dataframe tbody tr th {\n",
       "        vertical-align: top;\n",
       "    }\n",
       "\n",
       "    .dataframe thead th {\n",
       "        text-align: right;\n",
       "    }\n",
       "</style>\n",
       "<table border=\"1\" class=\"dataframe\">\n",
       "  <thead>\n",
       "    <tr style=\"text-align: right;\">\n",
       "      <th></th>\n",
       "      <th>date</th>\n",
       "      <th>ΔT</th>\n",
       "      <th>ΔH</th>\n",
       "      <th>HL</th>\n",
       "      <th>TL</th>\n",
       "      <th>Ground</th>\n",
       "      <th>Night</th>\n",
       "      <th>Day</th>\n",
       "    </tr>\n",
       "  </thead>\n",
       "  <tbody>\n",
       "    <tr>\n",
       "      <th>0</th>\n",
       "      <td>2021-01-01 00:00:00</td>\n",
       "      <td>NaN</td>\n",
       "      <td>NaN</td>\n",
       "      <td>NaN</td>\n",
       "      <td>NaN</td>\n",
       "      <td>NaN</td>\n",
       "      <td>NaN</td>\n",
       "      <td>NaN</td>\n",
       "    </tr>\n",
       "    <tr>\n",
       "      <th>1</th>\n",
       "      <td>2021-01-01 12:00:00</td>\n",
       "      <td>NaN</td>\n",
       "      <td>NaN</td>\n",
       "      <td>NaN</td>\n",
       "      <td>NaN</td>\n",
       "      <td>NaN</td>\n",
       "      <td>NaN</td>\n",
       "      <td>NaN</td>\n",
       "    </tr>\n",
       "    <tr>\n",
       "      <th>2</th>\n",
       "      <td>2021-01-02 00:00:00</td>\n",
       "      <td>NaN</td>\n",
       "      <td>NaN</td>\n",
       "      <td>NaN</td>\n",
       "      <td>NaN</td>\n",
       "      <td>NaN</td>\n",
       "      <td>NaN</td>\n",
       "      <td>NaN</td>\n",
       "    </tr>\n",
       "    <tr>\n",
       "      <th>3</th>\n",
       "      <td>2021-01-02 12:00:00</td>\n",
       "      <td>NaN</td>\n",
       "      <td>NaN</td>\n",
       "      <td>NaN</td>\n",
       "      <td>NaN</td>\n",
       "      <td>NaN</td>\n",
       "      <td>NaN</td>\n",
       "      <td>NaN</td>\n",
       "    </tr>\n",
       "    <tr>\n",
       "      <th>4</th>\n",
       "      <td>2021-01-03 00:00:00</td>\n",
       "      <td>NaN</td>\n",
       "      <td>NaN</td>\n",
       "      <td>NaN</td>\n",
       "      <td>NaN</td>\n",
       "      <td>NaN</td>\n",
       "      <td>NaN</td>\n",
       "      <td>NaN</td>\n",
       "    </tr>\n",
       "  </tbody>\n",
       "</table>\n",
       "</div>"
      ],
      "text/plain": [
       "                 date  ΔT  ΔH  HL  TL  Ground  Night  Day\n",
       "0 2021-01-01 00:00:00 NaN NaN NaN NaN     NaN    NaN  NaN\n",
       "1 2021-01-01 12:00:00 NaN NaN NaN NaN     NaN    NaN  NaN\n",
       "2 2021-01-02 00:00:00 NaN NaN NaN NaN     NaN    NaN  NaN\n",
       "3 2021-01-02 12:00:00 NaN NaN NaN NaN     NaN    NaN  NaN\n",
       "4 2021-01-03 00:00:00 NaN NaN NaN NaN     NaN    NaN  NaN"
      ]
     },
     "execution_count": 3,
     "metadata": {},
     "output_type": "execute_result"
    }
   ],
   "source": [
    "import pandas as pd\n",
    "\n",
    "# Загружаем данные из сводного файла\n",
    "df = pd.read_excel('DATA.xlsx', sheet_name=\"df_full\")\n",
    "\n",
    "# Показываем первые несколько строк\n",
    "print(\"Первые строки данных:\")\n",
    "df.head()"
   ]
  },
  {
   "cell_type": "markdown",
   "metadata": {},
   "source": [
    "## 6. Основные статистические показатели\n",
    "\n",
    "Рассчитаем базовую статистику по инверсиям:"
   ]
  },
  {
   "cell_type": "code",
   "execution_count": 5,
   "metadata": {},
   "outputs": [
    {
     "name": "stdout",
     "output_type": "stream",
     "text": [
      "Всего инверсий: 48\n",
      "Средняя интенсивность инверсии (ΔT): 4.09°C\n",
      "Максимальная интенсивность: 12.30°C\n",
      "Средняя мощность инверсии (ΔH): 351.96 м\n",
      "\n",
      "Наземных инверсий: 7 (14.6%)\n",
      "Приподнятых инверсий: 41 (85.4%)\n",
      "\n",
      "Средняя интенсивность наземных инверсий: 3.43°C\n",
      "Средняя интенсивность приподнятых инверсий: 4.20°C\n"
     ]
    }
   ],
   "source": [
    "# Отфильтруем строки, где есть данные (не NaN)\n",
    "df_clean = df.dropna(subset=['ΔT'])\n",
    "\n",
    "if len(df_clean) > 0:\n",
    "    print(f\"Всего инверсий: {len(df_clean)}\")\n",
    "    print(f\"Средняя интенсивность инверсии (ΔT): {df_clean['ΔT'].mean():.2f}°C\")\n",
    "    print(f\"Максимальная интенсивность: {df_clean['ΔT'].max():.2f}°C\")\n",
    "    print(f\"Средняя мощность инверсии (ΔH): {df_clean['ΔH'].mean():.2f} м\")\n",
    "    \n",
    "    ground_inv = df_clean[df_clean['Ground'] == 1]\n",
    "    elevated_inv = df_clean[df_clean['Ground'] == 0]\n",
    "    \n",
    "    print(f\"\\nНаземных инверсий: {len(ground_inv)} ({len(ground_inv)/len(df_clean)*100:.1f}%)\")\n",
    "    print(f\"Приподнятых инверсий: {len(elevated_inv)} ({len(elevated_inv)/len(df_clean)*100:.1f}%)\")\n",
    "    \n",
    "    print(f\"\\nСредняя интенсивность наземных инверсий: {ground_inv['ΔT'].mean():.2f}°C\")\n",
    "    print(f\"Средняя интенсивность приподнятых инверсий: {elevated_inv['ΔT'].mean():.2f}°C\")\n",
    "else:\n",
    "    print(\"Нет данных для анализа\")"
   ]
  },
  {
   "cell_type": "markdown",
   "metadata": {},
   "source": [
    "## 7. Визуализация результатов\n",
    "\n",
    "Визуализируем обнаруженные инверсии:"
   ]
  },
  {
   "cell_type": "code",
   "execution_count": 6,
   "metadata": {},
   "outputs": [
    {
     "data": {
      "image/png": "[encoded data removed]",
      "text/plain": [
       "<Figure size 1200x800 with 2 Axes>"
      ]
     },
     "metadata": {},
     "output_type": "display_data"
    }
   ],
   "source": [
    "import matplotlib.pyplot as plt\n",
    "import matplotlib.dates as mdates\n",
    "\n",
    "if len(df_clean) > 0:\n",
    "    plt.figure(figsize=(12, 8))\n",
    "    \n",
    "    # График интенсивности инверсий по времени\n",
    "    plt.subplot(211)\n",
    "    ground = df_clean[df_clean['Ground'] == 1]\n",
    "    elevated = df_clean[df_clean['Ground'] == 0]\n",
    "    \n",
    "    plt.scatter(ground['date'], ground['ΔT'], color='red', label='Наземные инверсии', alpha=0.7)\n",
    "    plt.scatter(elevated['date'], elevated['ΔT'], color='blue', label='Приподнятые инверсии', alpha=0.7)\n",
    "    \n",
    "    plt.title(f'Интенсивность инверсий, {station_name}, {month}.{year}')\n",
    "    plt.ylabel('ΔT (°C)')\n",
    "    plt.grid(True, alpha=0.3)\n",
    "    plt.legend()\n",
    "    plt.gca().xaxis.set_major_formatter(mdates.DateFormatter('%d.%m'))\n",
    "    \n",
    "    # График мощности инверсий\n",
    "    plt.subplot(212)\n",
    "    plt.scatter(ground['date'], ground['ΔH'], color='red', label='Наземные инверсии', alpha=0.7)\n",
    "    plt.scatter(elevated['date'], elevated['ΔH'], color='blue', label='Приподнятые инверсии', alpha=0.7)\n",
    "    \n",
    "    plt.title('Мощность инверсий')\n",
    "    plt.xlabel('Дата')\n",
    "    plt.ylabel('ΔH (м)')\n",
    "    plt.grid(True, alpha=0.3)\n",
    "    plt.legend()\n",
    "    plt.gca().xaxis.set_major_formatter(mdates.DateFormatter('%d.%m'))\n",
    "    \n",
    "    plt.tight_layout()\n",
    "    plt.show()\n",
    "else:\n",
    "    print(\"Недостаточно данных для построения графика\")"
   ]
  },
  {
   "cell_type": "markdown",
   "metadata": {},
   "source": [
    "## 8. Сравнение дневных и ночных инверсий"
   ]
  },
  {
   "cell_type": "code",
   "execution_count": 7,
   "metadata": {},
   "outputs": [
    {
     "name": "stdout",
     "output_type": "stream",
     "text": [
      "Дневных инверсий: 20\n",
      "Ночных инверсий: 28\n",
      "\n",
      "Сравнение интенсивности:\n",
      "Средняя ΔT днём: 3.90°C\n",
      "Средняя ΔT ночью: 4.23°C\n",
      "\n",
      "Сравнение мощности:\n",
      "Средняя ΔH днём: 420.45 м\n",
      "Средняя ΔH ночью: 303.04 м\n"
     ]
    },
    {
     "data": {
      "text/plain": [
       "<Figure size 1000x600 with 0 Axes>"
      ]
     },
     "metadata": {},
     "output_type": "display_data"
    },
    {
     "data": {
      "image/png": "[encoded data removed]",
      "text/plain": [
       "<Figure size 800x600 with 2 Axes>"
      ]
     },
     "metadata": {},
     "output_type": "display_data"
    }
   ],
   "source": [
    "if len(df_clean) > 0:\n",
    "    day = df_clean[df_clean['Day'] == 1]\n",
    "    night = df_clean[df_clean['Night'] == 1]\n",
    "    \n",
    "    print(f\"Дневных инверсий: {len(day)}\")\n",
    "    print(f\"Ночных инверсий: {len(night)}\")\n",
    "    \n",
    "    if len(day) > 0 and len(night) > 0:\n",
    "        print(\"\\nСравнение интенсивности:\")\n",
    "        print(f\"Средняя ΔT днём: {day['ΔT'].mean():.2f}°C\")\n",
    "        print(f\"Средняя ΔT ночью: {night['ΔT'].mean():.2f}°C\")\n",
    "        \n",
    "        print(\"\\nСравнение мощности:\")\n",
    "        print(f\"Средняя ΔH днём: {day['ΔH'].mean():.2f} м\")\n",
    "        print(f\"Средняя ΔH ночью: {night['ΔH'].mean():.2f} м\")\n",
    "        \n",
    "        # Визуализация сравнения\n",
    "        plt.figure(figsize=(10, 6))\n",
    "        \n",
    "        # Интенсивность\n",
    "        labels = ['Дневные', 'Ночные']\n",
    "        dt_values = [day['ΔT'].mean(), night['ΔT'].mean()]\n",
    "        dh_values = [day['ΔH'].mean(), night['ΔH'].mean()]\n",
    "        \n",
    "        x = range(len(labels))\n",
    "        width = 0.35\n",
    "        \n",
    "        fig, ax1 = plt.subplots(figsize=(8, 6))\n",
    "        \n",
    "        ax1.bar(x, dt_values, width, label='ΔT (°C)', color='tomato')\n",
    "        ax1.set_ylabel('ΔT (°C)', color='tomato')\n",
    "        ax1.tick_params(axis='y', labelcolor='tomato')\n",
    "        \n",
    "        ax2 = ax1.twinx()\n",
    "        ax2.bar([i + width for i in x], dh_values, width, label='ΔH (м)', color='royalblue')\n",
    "        ax2.set_ylabel('ΔH (м)', color='royalblue')\n",
    "        ax2.tick_params(axis='y', labelcolor='royalblue')\n",
    "        \n",
    "        plt.title('Сравнение дневных и ночных инверсий')\n",
    "        plt.xticks([i + width/2 for i in x], labels)\n",
    "        plt.tight_layout()\n",
    "        plt.show()\n",
    "else:\n",
    "    print(\"Недостаточно данных для анализа\")"
   ]
  },
  {
   "cell_type": "markdown",
   "metadata": {},
   "source": [
    "## 9. Загрузка результатов\n",
    "\n",
    "Вы можете скачать сводную таблицу с результатами:"
   ]
  },
  {
   "cell_type": "code",
   "execution_count": null,
   "metadata": {},
   "outputs": [],
   "source": [
    "from google.colab import files\n",
    "\n",
    "# Загрузка сводного файла анализа\n",
    "files.download('DATA.xlsx')"
   ]
  },
  {
   "cell_type": "markdown",
   "metadata": {},
   "source": [
    "## Заключение\n",
    "\n",
    "В этом ноутбуке мы:\n",
    "1. Загрузили данные метеорологических зондирований\n",
    "2. Обработали их для выявления температурных инверсий\n",
    "3. Проанализировали характеристики инверсий\n",
    "4. Визуализировали результаты\n",
    "5. Сравнили дневные и ночные инверсии\n",
    "\n",
    "Для дальнейшего анализа вы можете:\n",
    "- Изменить период анализа (год, месяц)\n",
    "- Выбрать другую метеостанцию\n",
    "- Сравнить данные между несколькими станциями\n",
    "- Использовать более сложный статистический анализ"
   ]
  }
 ],
 "metadata": {
  "kernelspec": {
   "display_name": "venv",
   "language": "python",
   "name": "python3"
  },
  "language_info": {
   "codemirror_mode": {
    "name": "ipython",
    "version": 3
   },
   "file_extension": ".py",
   "mimetype": "text/x-python",
   "name": "python",
   "nbconvert_exporter": "python",
   "pygments_lexer": "ipython3",
   "version": "3.12.3"
  }
 },
 "nbformat": 4,
 "nbformat_minor": 2
}
